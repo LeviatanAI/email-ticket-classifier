{
  "cells": [
    {
      "cell_type": "code",
      "source": [
        "# Install necessary package for unsupervised learning\n",
        "! pip install unsloth"
      ],
      "metadata": {
        "id": "fqD_NG7Zm5Da"
      },
      "execution_count": null,
      "outputs": []
    },
    {
      "cell_type": "code",
      "source": [
        "import os\n",
        "from datasets import load_dataset\n",
        "\n",
        "# Define the path for the training dataset (ensure no sensitive info in path). The dataset should contain two columns:\n",
        "# - \"mail\": This is the input text to be used for training.\n",
        "# - \"Catégorie du ticket\": This is the annotation, representing the target category for classification.\n",
        "HOME_PATH = \"/home/ubuntu/\"\n",
        "train_dataset_name = os.path.join(HOME_PATH, \"train_set_filtred.csv\")\n",
        "\n",
        "# Load the dataset from CSV file\n",
        "dataset = load_dataset(\"csv\",data_files = train_dataset_name)\n",
        "\n",
        "# Print dataset details: number of prompts and column names\n",
        "print(f'Number of prompts: {len(dataset)}')\n",
        "print(f'Column names are: {dataset.column_names}')"
      ],
      "execution_count": null,
      "outputs": [],
      "metadata": {
        "datalore": {
          "node_id": "7qlQeJqCGx7d1Ycq59I13L",
          "type": "CODE",
          "hide_input_from_viewers": true,
          "hide_output_from_viewers": true
        },
        "id": "iWzbf2JM6kMW"
      }
    },
    {
      "cell_type": "code",
      "source": [
        "# Import necessary components from unsloth for language llm\n",
        "from unsloth import FastLanguageModel\n",
        "import torch\n",
        "\n",
        "# Load pre-trained language model with options for memory optimization (4-bit)\n",
        "model, tokenizer = FastLanguageModel.from_pretrained(\n",
        "    \"unsloth/Qwen2.5-14B-Instruct-bnb-4bit\",\n",
        "    load_in_4bit = True, # Use 4bit to reduce memory use. False for 16bit LoRA.\n",
        "    use_gradient_checkpointing = \"unsloth\", # True or \"unsloth\" for long context\n",
        ")"
      ],
      "execution_count": null,
      "outputs": [
        {
          "name": "stdout",
          "text": [
            "🦥 Unsloth: Will patch your computer to enable 2x faster free finetuning.\n",
            "\n",
            "\n",
            "🦥 Unsloth Zoo will now patch everything to make training faster!\n",
            "==((====))==  Unsloth 2025.1.5: Fast Qwen2 patching. Transformers: 4.49.0.dev0.\n",
            "   \\\\   /|    GPU: NVIDIA A10. Max memory: 21.975 GB. Platform: Linux.\n",
            "O^O/ \\_/ \\    Torch: 2.5.1+cu121. CUDA: 8.6. CUDA Toolkit: 12.1. Triton: 3.1.0\n",
            "\\        /    Bfloat16 = TRUE. FA [Xformers = 0.0.29.post1. FA2 = False]\n",
            " \"-____-\"     Free Apache license: http://github.com/unslothai/unsloth\n",
            "Unsloth: Fast downloading is enabled - ignore downloading bars which are red colored!\n",
            "\n"
          ],
          "output_type": "stream"
        },
        {
          "name": "stderr",
          "text": [
            "\n",
            "/home/ubuntu/.local/lib/python3.10/site-packages/tqdm/auto.py:21: TqdmWarning: IProgress not found. Please update jupyter and ipywidgets. See https://ipywidgets.readthedocs.io/en/stable/user_install.html\n",
            "  from .autonotebook import tqdm as notebook_tqdm\n",
            "2025-01-20 15:34:44.077835: I tensorflow/core/util/port.cc:153] oneDNN custom operations are on. You may see slightly different numerical results due to floating-point round-off errors from different computation orders. To turn them off, set the environment variable `TF_ENABLE_ONEDNN_OPTS=0`.\n",
            "2025-01-20 15:34:44.091037: E external/local_xla/xla/stream_executor/cuda/cuda_fft.cc:477] Unable to register cuFFT factory: Attempting to register factory for plugin cuFFT when one has already been registered\n",
            "WARNING: All log messages before absl::InitializeLog() is called are written to STDERR\n",
            "E0000 00:00:1737387284.106257   10466 cuda_dnn.cc:8310] Unable to register cuDNN factory: Attempting to register factory for plugin cuDNN when one has already been registered\n",
            "E0000 00:00:1737387284.110882   10466 cuda_blas.cc:1418] Unable to register cuBLAS factory: Attempting to register factory for plugin cuBLAS when one has already been registered\n",
            "2025-01-20 15:34:44.126707: I tensorflow/core/platform/cpu_feature_guard.cc:210] This TensorFlow binary is optimized to use available CPU instructions in performance-critical operations.\n",
            "To enable the following instructions: AVX512F AVX512_VNNI, in other operations, rebuild TensorFlow with the appropriate compiler flags.\n",
            "\n",
            "\n",
            "\n",
            "oading checkpoint shards: 100%|█████████████████████████████████████████████████████████████████████████| 2/2 [00:02<00:00,  1.03s/it]"
          ],
          "output_type": "stream"
        }
      ],
      "metadata": {
        "datalore": {
          "node_id": "23IFaOGJaGijPbSwDiLNOc",
          "type": "CODE",
          "hide_input_from_viewers": false,
          "hide_output_from_viewers": false,
          "report_properties": {
            "rowId": "3ZG9LkMBswg7vdNgrxr35R"
          }
        },
        "id": "agG_i4Ph6kMX",
        "outputId": "b3cd05ed-645e-4612-9067-4eb871b488fe"
      }
    },
    {
      "cell_type": "code",
      "source": [
        "model = FastLanguageModel.get_peft_model(\n",
        "    model,\n",
        "    r=16,\n",
        "    lora_alpha=16,\n",
        "    lora_dropout=0,\n",
        "    target_modules=[\"q_proj\", \"k_proj\", \"v_proj\", \"up_proj\", \"down_proj\", \"o_proj\", \"gate_proj\"],  # we train all language layers and MLP layers\n",
        "    use_rslora=True,\n",
        "    use_gradient_checkpointing=\"unsloth\"\n",
        ")"
      ],
      "execution_count": null,
      "outputs": [
        {
          "name": "stderr",
          "text": [
            "Unsloth 2025.1.5 patched 48 layers with 48 QKV layers, 48 O layers and 48 MLP layers.\n"
          ],
          "output_type": "stream"
        }
      ],
      "metadata": {
        "datalore": {
          "node_id": "1gNNFNKyoRUcU1zKamHxI9",
          "type": "CODE",
          "hide_input_from_viewers": false,
          "hide_output_from_viewers": false,
          "report_properties": {
            "rowId": "sqofyOVXSsqTYKwVTBMqf2"
          }
        },
        "id": "1IDHBosI6kMY",
        "outputId": "c03ec36c-a119-4d24-8c75-5088bacb0175"
      }
    },
    {
      "cell_type": "code",
      "source": [
        "# Define prompt for ticket classification assistant\n",
        "prompt = \"\"\"\n",
        "Tu es un assistant spécialisé dans la classification de tickets à partir de leur contenu textuel. Ton objectif est d’analyser la description fournie et de l’associer à l’une des catégories ci-dessous :\n",
        "```\n",
        "Demande de service/Backup #BCS/Autre - Autre\n",
        "Demande de service/Backup #BCS/Demande de renseignement - Demande de renseignement\n",
        "Demande de service/Backup #BCS/Restauration qualifiée - Restauration qualifiée\n",
        "Demande de service/Backup #BCS/Stratégie de sauvegarde/Création - Création\n",
        "Demande de service/Backup #BCS/Stratégie de sauvegarde/Modification - Modification\n",
        "Demande de service/Backup #BCS/Stratégie de sauvegarde/Suppression - Suppression\n",
        "Demande de service/Cyber Sécurité #CS2/Bastion/Création-Modification d'entrées - Création-Modification d'entrées\n",
        "Incidents/Backup #BCS/Sauvegarde - Sauvegarde\n",
        "Incidents/Supervision - Supervision\n",
        "```\n",
        "### Règles :\n",
        "1. Réponds uniquement par la catégorie exacte, sans texte supplémentaire.\n",
        "2. La catégorie associée doit être unique.\n",
        "3. Si aucune catégorie ne correspond, la valeur de \"categorisation\" doit être \"unknown\".\n",
        "\n",
        "### Exemple :\n",
        "La description:\n",
        "Bonjour¤ Merci de relancer les sauvegardes FULL¤ si ils ne sont pas repassées en automatique. Ghislain Envoyé de mon iPhone Début du message transféré\n",
        "#### Sortie :\n",
        "{{\n",
        "  \"categorisation\": \"Incidents/Backup #BCS/Sauvegarde - Sauvegarde\"\n",
        "}}\n",
        "\n",
        "Analyse uniquement la description suivante :\n",
        "{content}\n",
        "\"\"\"\n",
        "\n",
        "# Format for predicting the category for each sample\n",
        "prediction_format = \"\"\"\n",
        "{{\n",
        "  \"categorisation\": \"{category}\"\n",
        "}}\n",
        "\"\"\""
      ],
      "execution_count": null,
      "outputs": [],
      "metadata": {
        "datalore": {
          "node_id": "8fiUoToddYq7VNMuEF8T6p",
          "type": "CODE",
          "hide_input_from_viewers": false,
          "hide_output_from_viewers": false,
          "report_properties": {
            "rowId": "pBEqrMuk5fbJlQpfumfJ5g"
          }
        },
        "id": "GdBJ9Bey6kMZ"
      }
    },
    {
      "cell_type": "code",
      "source": [
        "# Helper function to convert data into a conversation format\n",
        "def convert_to_conversation(sample):\n",
        "    new_conversation = [\n",
        "        { \"role\": \"user\",\n",
        "          \"content\" : prompt.format(content = sample[\"mail\"]),\n",
        "        },\n",
        "        { \"role\": \"assistant\",\n",
        "          \"content\" : prediction_format.format(category = sample[\"Catégorie du ticket\"])\n",
        "        }\n",
        "    ]\n",
        "    return {\"messages\" : new_conversation}"
      ],
      "execution_count": null,
      "outputs": [],
      "metadata": {
        "datalore": {
          "node_id": "hdAU5S6XNUlFPCwsHKwO5g",
          "type": "CODE",
          "hide_input_from_viewers": false,
          "hide_output_from_viewers": false,
          "report_properties": {
            "rowId": "sCmXNGg3E01Oq1fGnfp8zn"
          }
        },
        "id": "2E947Wl06kMZ"
      }
    },
    {
      "cell_type": "code",
      "source": [
        "# Convert the dataset to a conversation format\n",
        "converted_dataset = [convert_to_conversation(sample) for sample in dataset['train']]\n",
        "converted_dataset[0]"
      ],
      "execution_count": null,
      "outputs": [
        {
          "data": {
            "text/plain": [
              "{'messages': [{'role': 'user',\n",
              "   'content': '\\nTu es un assistant spécialisé dans la classification de tickets à partir de leur contenu textuel. Ton objectif est d’analyser la description fournie et de l’associer à l’une des catégories ci-dessous\\u202f:\\n```\\nDemande de service/Backup #BCS/Autre - Autre\\nDemande de service/Backup #BCS/Demande de renseignement - Demande de renseignement\\nDemande de service/Backup #BCS/Restauration qualifiée - Restauration qualifiée\\nDemande de service/Backup #BCS/Stratégie de sauvegarde/Création - Création\\nDemande de service/Backup #BCS/Stratégie de sauvegarde/Modification - Modification\\nDemande de service/Backup #BCS/Stratégie de sauvegarde/Suppression - Suppression\\nDemande de service/Cyber Sécurité #CS2/Bastion/Création-Modification d\\'entrées - Création-Modification d\\'entrées\\nIncidents/Backup #BCS/Sauvegarde - Sauvegarde\\nIncidents/Supervision - Supervision\\n```\\n### Règles :\\n1. Réponds uniquement par la catégorie exacte, sans texte supplémentaire.\\n2. La catégorie associée doit être unique.\\n3. Si aucune catégorie ne correspond, la valeur de \"categorisation\" doit être \"unknown\".\\n\\n### Exemple :\\nLa description:\\nBonjour¤ Merci de relancer les sauvegardes FULL¤ si ils ne sont pas repassées en automatique. Ghislain Envoyé de mon iPhone Début du message transféré\\n#### Sortie :\\n{\\n  \"categorisation\": \"Incidents/Backup #BCS/Sauvegarde - Sauvegarde\"\\n}\\n\\nAnalyse uniquement la description suivante :\\n[RXL] Rapport taux de succès mensuel To: a015a4c2b329dd7d0940b642caee3ec8f73f70f1785438eda0be59c84dea2ceb Bonjour¤ Dans le cadre du comité de pilotage de Rexel¤ j’ai besoin de remonter le taux de succès des sauvegardes sur un mois. Avons-nous un report donnant cette information que vous pourriez me transférer ? Si oui¤ pouvez-vous me le transférer et m’ajouter dans la liste de diffusion ? Si ce report mensuel n’existe pas¤ je pourrais me baser sur ce mail que je trouve dans la boite 066f4f74376b735364e8e978c9d64f1dfdbd1e834f843b05c0629972bda5e280 : Malheureusement je n’ai que deux mails de ce type dans la boite¤ pour une raison inconnue. Je ne peux donc pas concaténer les mois de Septembre et Octobre pour en sortir le taux mensuel. Si vous avez ces mails depuis le 01/09/2024 je suis preneur 😊 . Merci¤ Cdt. Guillaume BONNAIRE Service Delivery Manager 5 rue Jacqueline Auriol 78280 Guyancourt Mobile : ++ 33 6 07 19 79 59 Support : 0 800 22 24 24 | Espace client 1b99f12e6198f4bb827c612c2f0c2dd30afc6141e3ee0db33f206790bc61aa1d Cet e-mail et toutes les pièces jointes sont établis à l’intention exclusive de ses destinataires et sont strictement confidentiels. S\\'il ne vous est pas destiné¤ nous vous remercions de le détruire immédiatement¤ sans le copier¤ ni révéler ou transmettre son contenu à quiconque. This e-mail and all attachments are intended for the exclusive use of the recipients and are strictly confidential. If you are not the named recipient of this message¤ please destroy it without reading¤ copying or disclosing its contents to any other person. Chez ANTEMETA¤ nous travaillons avec flexibilité. Je n\\'attends donc pas de réponse ou d\\'action immédiate aux e-mails envoyés en dehors de vos heures habituelles de travail. At ANTEMETA¤ we work flexibly so whilst it suits me to e-mail now¤ I do not expect a response or action outside of your own working hours.\\n'},\n",
              "  {'role': 'assistant',\n",
              "   'content': '\\n{\\n  \"categorisation\": \"Demande de service/Backup #BCS/Autre - Autre\"\\n}\\n'}]}"
            ]
          },
          "metadata": {},
          "output_type": "display_data"
        }
      ],
      "metadata": {
        "datalore": {
          "node_id": "mc1MEvNxOtheo2tu6TtV1B",
          "type": "CODE",
          "hide_input_from_viewers": false,
          "hide_output_from_viewers": false,
          "report_properties": {
            "rowId": "mzaoFLw5IL170UzgwlvWWS"
          }
        },
        "id": "3f_sYK3q6kMZ",
        "outputId": "c55b0a6d-eaaa-484f-e128-e0894311b618"
      }
    },
    {
      "cell_type": "code",
      "source": [
        "# Function to format prompts for tokenization\n",
        "def formatting_prompts_func(examples):\n",
        "    try:\n",
        "        convos = examples[\"dataset\"]\n",
        "        texts = [tokenizer.apply_chat_template(convo['messages'], tokenize = False, add_generation_prompt = False) for convo in convos]\n",
        "        return { \"text\" : texts, }\n",
        "    except:\n",
        "        print('error')\n",
        "        raise"
      ],
      "execution_count": null,
      "outputs": [],
      "metadata": {
        "datalore": {
          "node_id": "KpFcYg7cbNXrpzwJ2jOLXj",
          "type": "CODE",
          "hide_input_from_viewers": false,
          "hide_output_from_viewers": false,
          "report_properties": {
            "rowId": "UeVWy67Obm8FqvkZQsR1FG"
          }
        },
        "id": "kGvIz4Ql6kMa"
      }
    },
    {
      "cell_type": "code",
      "source": [
        "# Convert the dataset to a format suitable for processing\n",
        "from datasets import Dataset\n",
        "my_dataset = Dataset.from_dict({\"dataset\": converted_dataset})"
      ],
      "execution_count": null,
      "outputs": [],
      "metadata": {
        "datalore": {
          "node_id": "wuha3TDXJfBzJ7xxLFmY9d",
          "type": "CODE",
          "hide_input_from_viewers": false,
          "hide_output_from_viewers": false,
          "report_properties": {
            "rowId": "Uibx73yiDjm2zd82k857Yn"
          }
        },
        "id": "RbCtTpyD6kMa"
      }
    },
    {
      "cell_type": "code",
      "source": [
        "# Apply formatting to the dataset\n",
        "dataset = my_dataset.map(formatting_prompts_func, batched = True,)\n",
        "dataset[2]['text']"
      ],
      "execution_count": null,
      "outputs": [
        {
          "data": {
            "text/plain": [
              "'<|im_start|>system\\nYou are Qwen, created by Alibaba Cloud. You are a helpful assistant.<|im_end|>\\n<|im_start|>user\\n\\nTu es un assistant spécialisé dans la classification de tickets à partir de leur contenu textuel. Ton objectif est d’analyser la description fournie et de l’associer à l’une des catégories ci-dessous\\u202f:\\n```\\nDemande de service/Backup #BCS/Autre - Autre\\nDemande de service/Backup #BCS/Demande de renseignement - Demande de renseignement\\nDemande de service/Backup #BCS/Restauration qualifiée - Restauration qualifiée\\nDemande de service/Backup #BCS/Stratégie de sauvegarde/Création - Création\\nDemande de service/Backup #BCS/Stratégie de sauvegarde/Modification - Modification\\nDemande de service/Backup #BCS/Stratégie de sauvegarde/Suppression - Suppression\\nDemande de service/Cyber Sécurité #CS2/Bastion/Création-Modification d\\'entrées - Création-Modification d\\'entrées\\nIncidents/Backup #BCS/Sauvegarde - Sauvegarde\\nIncidents/Supervision - Supervision\\n```\\n### Règles :\\n1. Réponds uniquement par la catégorie exacte, sans texte supplémentaire.\\n2. La catégorie associée doit être unique.\\n3. Si aucune catégorie ne correspond, la valeur de \"categorisation\" doit être \"unknown\".\\n\\n### Exemple :\\nLa description:\\nBonjour¤ Merci de relancer les sauvegardes FULL¤ si ils ne sont pas repassées en automatique. Ghislain Envoyé de mon iPhone Début du message transféré\\n#### Sortie :\\n{\\n  \"categorisation\": \"Incidents/Backup #BCS/Sauvegarde - Sauvegarde\"\\n}\\n\\nAnalyse uniquement la description suivante :\\nBonjour¤ ¤¤ ¤¤ PRTG remonte une alerte sur le core 06: ¤¤ ¤¤ https://monitoring06.antemeta.net/sensor.htm?id=11352&tabid=7 ¤¤ ¤¤\\n<|im_end|>\\n<|im_start|>assistant\\n\\n{\\n  \"categorisation\": \"Incidents/Supervision - Supervision\"\\n}\\n<|im_end|>\\n'"
            ]
          },
          "metadata": {},
          "output_type": "display_data"
        }
      ],
      "metadata": {
        "datalore": {
          "node_id": "gegQ0fx6AisDN5CYd45swa",
          "type": "CODE",
          "hide_input_from_viewers": false,
          "hide_output_from_viewers": false,
          "report_properties": {
            "rowId": "W8vzrsa8Lok7QByxI67Xq9"
          }
        },
        "id": "qcGP1SXE6kMa",
        "outputId": "6ceb2390-9734-4054-e21b-b86dce088c79"
      }
    },
    {
      "cell_type": "code",
      "source": [
        "# Preprocess function for batch tokenization\n",
        "from functools import partial\n",
        "def preprocess_batch(batch, tokenizer, max_length):\n",
        "    \"\"\"\n",
        "    Tokenizes dataset batch\n",
        "\n",
        "    :param batch: Dataset batch\n",
        "    :param tokenizer: Model tokenizer\n",
        "    :param max_length: Maximum number of tokens to emit from the tokenizer\n",
        "    \"\"\"\n",
        "\n",
        "    return tokenizer(\n",
        "        text=batch[\"text\"],\n",
        "        max_length = max_length,\n",
        "        truncation = True,\n",
        "    )\n",
        "\n",
        "\n",
        "def preprocess_dataset(tokenizer, max_length: int, seed, my_dataset: str):\n",
        "    \"\"\"\n",
        "    Tokenizes dataset for fine-tuning\n",
        "\n",
        "    :param tokenizer (AutoTokenizer): Model tokenizer\n",
        "    :param max_length (int): Maximum number of tokens to emit from the tokenizer\n",
        "    :param seed: Random seed for reproducibility\n",
        "    :param dataset (str): Instruction dataset\n",
        "    \"\"\"\n",
        "    columns_names = my_dataset.column_names\n",
        "    columns_names.append('text')\n",
        "\n",
        "    # Apply preprocessing to each batch of the dataset & and remove initial columns and \"text\" fields\n",
        "    _preprocessing_function = partial(preprocess_batch, max_length = max_length, tokenizer = tokenizer)\n",
        "\n",
        "    my_dataset = my_dataset.map(\n",
        "        _preprocessing_function,\n",
        "        batched = True,\n",
        "        remove_columns = columns_names,\n",
        "    )\n",
        "\n",
        "    # Filter out samples that have \"input_ids\" exceeding \"max_length\"\n",
        "    my_dataset = my_dataset.filter(lambda sample: len(sample[\"input_ids\"]) < max_length)\n",
        "\n",
        "    # Shuffle dataset\n",
        "    my_dataset = my_dataset.shuffle(seed = seed)\n",
        "\n",
        "    return my_dataset"
      ],
      "execution_count": null,
      "outputs": [],
      "metadata": {
        "datalore": {
          "node_id": "1rEX405yM88P94v8WDxFct",
          "type": "CODE",
          "hide_input_from_viewers": false,
          "hide_output_from_viewers": false,
          "report_properties": {
            "rowId": "9VI9rr0panAFfG33wng4KX"
          }
        },
        "id": "9MuTqhco6kMa"
      }
    },
    {
      "cell_type": "code",
      "source": [
        "max_length = 2048\n",
        "seed = 33\n",
        "preprocessed_dataset = preprocess_dataset(tokenizer, max_length, seed, dataset)"
      ],
      "metadata": {
        "id": "117-uzg1nnms"
      },
      "execution_count": null,
      "outputs": []
    },
    {
      "cell_type": "code",
      "source": [
        "preprocessed_dataset"
      ],
      "execution_count": null,
      "outputs": [
        {
          "data": {
            "text/plain": [
              "Dataset({\n",
              "    features: ['input_ids', 'attention_mask'],\n",
              "    num_rows: 3524\n",
              "})"
            ]
          },
          "metadata": {},
          "output_type": "display_data"
        }
      ],
      "metadata": {
        "datalore": {
          "node_id": "d6M7S83MCX00eKYCK8lZVb",
          "type": "CODE",
          "hide_input_from_viewers": false,
          "hide_output_from_viewers": false,
          "report_properties": {
            "rowId": "59eYJaQJw2qp8cxe2Zn1Sb"
          }
        },
        "id": "1yajAKV06kMb",
        "outputId": "cd7e263e-4868-474d-dc59-39b136dafcc1"
      }
    },
    {
      "cell_type": "code",
      "source": [
        "import torch\n",
        "\n",
        "# Define data collator for batching input during training\n",
        "class TextDataCollator:\n",
        "    def __init__(self, model, tokenizer, max_length=2048):\n",
        "        self.model = model\n",
        "        self.tokenizer = tokenizer\n",
        "        self.max_length = max_length\n",
        "\n",
        "    def __call__(self, examples):\n",
        "        # Pad or truncate input_ids and attention_mask\n",
        "        input_ids = [ex[\"input_ids\"][:self.max_length] for ex in examples]\n",
        "        attention_mask = [ex[\"attention_mask\"][:self.max_length] for ex in examples]\n",
        "\n",
        "        # Pad sequences to max_length\n",
        "        input_ids = torch.nn.utils.rnn.pad_sequence(\n",
        "            [torch.tensor(ids) for ids in input_ids],\n",
        "            batch_first=True,\n",
        "            padding_value=0\n",
        "        )\n",
        "\n",
        "        attention_mask = torch.nn.utils.rnn.pad_sequence(\n",
        "            [torch.tensor(mask) for mask in attention_mask],\n",
        "            batch_first=True,\n",
        "            padding_value=0\n",
        "        )\n",
        "\n",
        "        # Add labels (same as input_ids for language modeling)\n",
        "        labels = input_ids.clone()\n",
        "\n",
        "        return {\n",
        "            \"input_ids\": input_ids,\n",
        "            \"attention_mask\": attention_mask,\n",
        "            \"labels\": labels\n",
        "        }"
      ],
      "execution_count": null,
      "outputs": [],
      "metadata": {
        "datalore": {
          "node_id": "22NEPiJ3v8XxWTsmEBq9N5",
          "type": "CODE",
          "hide_input_from_viewers": false,
          "hide_output_from_viewers": false,
          "report_properties": {
            "rowId": "DPidKdHCMYHhzQxTDEFDji"
          }
        },
        "id": "-ln3HKty6kMb"
      }
    },
    {
      "cell_type": "code",
      "source": [
        "from trl import SFTTrainer\n",
        "from transformers import TrainingArguments\n",
        "from unsloth import is_bfloat16_supported\n",
        "\n",
        "# Set up the training configuration and trainer\n",
        "\n",
        "trainer = SFTTrainer(\n",
        "    model = model,\n",
        "    tokenizer = tokenizer,\n",
        "    data_collator =  TextDataCollator(model, tokenizer),\n",
        "    train_dataset = preprocessed_dataset,\n",
        "    dataset_text_field = \"text\",\n",
        "    max_seq_length = 2048,\n",
        "    dataset_num_proc = 2,\n",
        "    packing = False, # Can make training 5x faster for short sequences.\n",
        "    args = TrainingArguments(\n",
        "        per_device_train_batch_size = 2,\n",
        "        gradient_accumulation_steps = 4,\n",
        "        warmup_steps = 5,\n",
        "        #max_steps = 30,\n",
        "        num_train_epochs = 1,\n",
        "        learning_rate = 2e-4,\n",
        "        fp16 = not is_bfloat16_supported(),\n",
        "        bf16 = is_bfloat16_supported(),\n",
        "        logging_steps = 1,\n",
        "        optim = \"adamw_8bit\",\n",
        "        weight_decay = 0.01,\n",
        "        lr_scheduler_type = \"linear\",\n",
        "        seed = 3407,\n",
        "        output_dir = \"outputs\",\n",
        "    ),\n",
        ")"
      ],
      "execution_count": null,
      "outputs": [],
      "metadata": {
        "datalore": {
          "node_id": "H6uHKWnpQO7kfDr9o7O86i",
          "type": "CODE",
          "hide_input_from_viewers": false,
          "hide_output_from_viewers": false,
          "report_properties": {
            "rowId": "JGLViHEfrvAIM9p7DTvqz9"
          }
        },
        "id": "3B1SdZOq6kMb"
      }
    },
    {
      "cell_type": "code",
      "source": [
        "trainer_stats = trainer.train()"
      ],
      "execution_count": null,
      "outputs": [
        {
          "name": "stdout",
          "text": [
            "\n"
          ],
          "output_type": "stream"
        },
        {
          "name": "stderr",
          "text": [
            "==((====))==  Unsloth - 2x faster free finetuning | Num GPUs = 1\n",
            "   \\\\   /|    Num examples = 3,524 | Num Epochs = 1\n",
            "O^O/ \\_/ \\    Batch size per device = 2 | Gradient Accumulation steps = 4\n",
            "\\        /    Total batch size = 8 | Total steps = 30\n",
            " \"-____-\"     Number of trainable parameters = 68,812,800\n",
            "\n"
          ],
          "output_type": "stream"
        },
        {
          "data": {
            "text/html": [
              "\n",
              "    <div>\n",
              "      \n",
              "      <progress value='30' max='30' style='width:300px; height:20px; vertical-align: middle;'></progress>\n",
              "      [30/30 05:27, Epoch 0/1]\n",
              "    </div>\n",
              "    <table border=\"1\" class=\"dataframe\">\n",
              "  <thead>\n",
              " <tr style=\"text-align: left;\">\n",
              "      <th>Step</th>\n",
              "      <th>Training Loss</th>\n",
              "    </tr>\n",
              "  </thead>\n",
              "  <tbody>\n",
              "    <tr>\n",
              "      <td>1</td>\n",
              "      <td>2.197800</td>\n",
              "    </tr>\n",
              "    <tr>\n",
              "      <td>2</td>\n",
              "      <td>2.646600</td>\n",
              "    </tr>\n",
              "    <tr>\n",
              "      <td>3</td>\n",
              "      <td>2.502100</td>\n",
              "    </tr>\n",
              "    <tr>\n",
              "      <td>4</td>\n",
              "      <td>1.931900</td>\n",
              "    </tr>\n",
              "    <tr>\n",
              "      <td>5</td>\n",
              "      <td>1.673800</td>\n",
              "    </tr>\n",
              "    <tr>\n",
              "      <td>6</td>\n",
              "      <td>1.553800</td>\n",
              "    </tr>\n",
              "    <tr>\n",
              "      <td>7</td>\n",
              "      <td>1.323400</td>\n",
              "    </tr>\n",
              "    <tr>\n",
              "      <td>8</td>\n",
              "      <td>1.195500</td>\n",
              "    </tr>\n",
              "    <tr>\n",
              "      <td>9</td>\n",
              "      <td>0.911400</td>\n",
              "    </tr>\n",
              "    <tr>\n",
              "      <td>10</td>\n",
              "      <td>0.787000</td>\n",
              "    </tr>\n",
              "    <tr>\n",
              "      <td>11</td>\n",
              "      <td>0.815500</td>\n",
              "    </tr>\n",
              "    <tr>\n",
              "      <td>12</td>\n",
              "      <td>0.782500</td>\n",
              "    </tr>\n",
              "    <tr>\n",
              "      <td>13</td>\n",
              "      <td>0.643900</td>\n",
              "    </tr>\n",
              "    <tr>\n",
              "      <td>14</td>\n",
              "      <td>0.658900</td>\n",
              "    </tr>\n",
              "    <tr>\n",
              "      <td>15</td>\n",
              "      <td>0.517900</td>\n",
              "    </tr>\n",
              "    <tr>\n",
              "      <td>16</td>\n",
              "      <td>0.591600</td>\n",
              "    </tr>\n",
              "    <tr>\n",
              "      <td>17</td>\n",
              "      <td>0.196200</td>\n",
              "    </tr>\n",
              "    <tr>\n",
              "      <td>18</td>\n",
              "      <td>0.442100</td>\n",
              "    </tr>\n",
              "    <tr>\n",
              "      <td>19</td>\n",
              "      <td>0.532400</td>\n",
              "    </tr>\n",
              "    <tr>\n",
              "      <td>20</td>\n",
              "      <td>0.308400</td>\n",
              "    </tr>\n",
              "    <tr>\n",
              "      <td>21</td>\n",
              "      <td>0.398100</td>\n",
              "    </tr>\n",
              "    <tr>\n",
              "      <td>22</td>\n",
              "      <td>0.377000</td>\n",
              "    </tr>\n",
              "    <tr>\n",
              "      <td>23</td>\n",
              "      <td>0.719700</td>\n",
              "    </tr>\n",
              "    <tr>\n",
              "      <td>24</td>\n",
              "      <td>0.237600</td>\n",
              "    </tr>\n",
              "    <tr>\n",
              "      <td>25</td>\n",
              "      <td>0.584800</td>\n",
              "    </tr>\n",
              "    <tr>\n",
              "      <td>26</td>\n",
              "      <td>0.387000</td>\n",
              "    </tr>\n",
              "    <tr>\n",
              "      <td>27</td>\n",
              "      <td>0.250100</td>\n",
              "    </tr>\n",
              "    <tr>\n",
              "      <td>28</td>\n",
              "      <td>0.513000</td>\n",
              "    </tr>\n",
              "    <tr>\n",
              "      <td>29</td>\n",
              "      <td>0.782000</td>\n",
              "    </tr>\n",
              "    <tr>\n",
              "      <td>30</td>\n",
              "      <td>0.400600</td>\n",
              "    </tr>\n",
              "  </tbody>\n",
              "</table><p>"
            ]
          },
          "metadata": {},
          "output_type": "display_data"
        },
        {
          "data": {
            "text/plain": [
              "<IPython.core.display.HTML object>"
            ]
          },
          "metadata": {},
          "output_type": "display_data"
        }
      ],
      "metadata": {
        "datalore": {
          "node_id": "RRJz0Jgp6YItekZZ0B2kt1",
          "type": "CODE",
          "hide_input_from_viewers": false,
          "hide_output_from_viewers": false,
          "report_properties": {
            "rowId": "d8ruNav4nOSqbzt1xxuznU"
          }
        },
        "id": "E8pJpBfK6kMb",
        "outputId": "2c317009-46a5-4fab-cb86-e12d6275243c"
      }
    },
    {
      "cell_type": "code",
      "source": [
        "# Push trained model and tokenizer to Hugging Face Hub (ensure tokens are replaced by placeholders)\n",
        "model.push_to_hub(\"your_hf_hub\", token=\"hf_XXXXXXXX\")\n",
        "tokenizer.push_to_hub(\"you_hf_hub\", token=\"hf_XXXXXXXXXX\")"
      ],
      "metadata": {
        "id": "mgCtrHsSoD4r"
      },
      "execution_count": null,
      "outputs": []
    },
    {
      "cell_type": "code",
      "source": [
        "import pandas as pd\n",
        "# Save training logs to a CSV file\n",
        "pd.DataFrame(trainer.state.log_history).to_csv(os.path.join(HOME_PATH, \"qwen_log.csv\"))"
      ],
      "execution_count": null,
      "outputs": [],
      "metadata": {
        "datalore": {
          "node_id": "VAQOsoPVzZ3Orsxix3aPd1",
          "type": "CODE",
          "hide_input_from_viewers": false,
          "hide_output_from_viewers": false,
          "report_properties": {
            "rowId": "Ma2TmHFOoGU3kK3g3XpgTn"
          }
        },
        "id": "Lk_Uu7CO6kMb"
      }
    },
    {
      "cell_type": "code",
      "source": [
        "# Display training logs in DataFrame\n",
        "df = pd.DataFrame(trainer.state.log_history)\n",
        "df"
      ],
      "execution_count": null,
      "outputs": [
        {
          "data": {
            "text/html": [
              "<div>\n",
              "<style scoped>\n",
              "    .dataframe tbody tr th:only-of-type {\n",
              "        vertical-align: middle;\n",
              "    }\n",
              "\n",
              "    .dataframe tbody tr th {\n",
              "        vertical-align: top;\n",
              "    }\n",
              "\n",
              "    .dataframe thead th {\n",
              "        text-align: right;\n",
              "    }\n",
              "</style>\n",
              "<table border=\"1\" class=\"dataframe\">\n",
              "  <thead>\n",
              "    <tr style=\"text-align: right;\">\n",
              "      <th></th>\n",
              "      <th>loss</th>\n",
              "      <th>grad_norm</th>\n",
              "      <th>learning_rate</th>\n",
              "      <th>epoch</th>\n",
              "      <th>step</th>\n",
              "      <th>train_runtime</th>\n",
              "      <th>train_samples_per_second</th>\n",
              "      <th>train_steps_per_second</th>\n",
              "      <th>total_flos</th>\n",
              "      <th>train_loss</th>\n",
              "    </tr>\n",
              "  </thead>\n",
              "  <tbody>\n",
              "    <tr>\n",
              "      <th>0</th>\n",
              "      <td>2.1978</td>\n",
              "      <td>13.724114</td>\n",
              "      <td>0.000040</td>\n",
              "      <td>0.002270</td>\n",
              "      <td>1</td>\n",
              "      <td>NaN</td>\n",
              "      <td>NaN</td>\n",
              "      <td>NaN</td>\n",
              "      <td>NaN</td>\n",
              "      <td>NaN</td>\n",
              "    </tr>\n",
              "    <tr>\n",
              "      <th>1</th>\n",
              "      <td>2.6466</td>\n",
              "      <td>15.350007</td>\n",
              "      <td>0.000080</td>\n",
              "      <td>0.004540</td>\n",
              "      <td>2</td>\n",
              "      <td>NaN</td>\n",
              "      <td>NaN</td>\n",
              "      <td>NaN</td>\n",
              "      <td>NaN</td>\n",
              "      <td>NaN</td>\n",
              "    </tr>\n",
              "    <tr>\n",
              "      <th>2</th>\n",
              "      <td>2.5021</td>\n",
              "      <td>4.597202</td>\n",
              "      <td>0.000120</td>\n",
              "      <td>0.006810</td>\n",
              "      <td>3</td>\n",
              "      <td>NaN</td>\n",
              "      <td>NaN</td>\n",
              "      <td>NaN</td>\n",
              "      <td>NaN</td>\n",
              "      <td>NaN</td>\n",
              "    </tr>\n",
              "    <tr>\n",
              "      <th>3</th>\n",
              "      <td>1.9319</td>\n",
              "      <td>1.482393</td>\n",
              "      <td>0.000160</td>\n",
              "      <td>0.009081</td>\n",
              "      <td>4</td>\n",
              "      <td>NaN</td>\n",
              "      <td>NaN</td>\n",
              "      <td>NaN</td>\n",
              "      <td>NaN</td>\n",
              "      <td>NaN</td>\n",
              "    </tr>\n",
              "    <tr>\n",
              "      <th>4</th>\n",
              "      <td>1.6738</td>\n",
              "      <td>1.011267</td>\n",
              "      <td>0.000200</td>\n",
              "      <td>0.011351</td>\n",
              "      <td>5</td>\n",
              "      <td>NaN</td>\n",
              "      <td>NaN</td>\n",
              "      <td>NaN</td>\n",
              "      <td>NaN</td>\n",
              "      <td>NaN</td>\n",
              "    </tr>\n",
              "    <tr>\n",
              "      <th>5</th>\n",
              "      <td>1.5538</td>\n",
              "      <td>1.074024</td>\n",
              "      <td>0.000192</td>\n",
              "      <td>0.013621</td>\n",
              "      <td>6</td>\n",
              "      <td>NaN</td>\n",
              "      <td>NaN</td>\n",
              "      <td>NaN</td>\n",
              "      <td>NaN</td>\n",
              "      <td>NaN</td>\n",
              "    </tr>\n",
              "    <tr>\n",
              "      <th>6</th>\n",
              "      <td>1.3234</td>\n",
              "      <td>0.837895</td>\n",
              "      <td>0.000184</td>\n",
              "      <td>0.015891</td>\n",
              "      <td>7</td>\n",
              "      <td>NaN</td>\n",
              "      <td>NaN</td>\n",
              "      <td>NaN</td>\n",
              "      <td>NaN</td>\n",
              "      <td>NaN</td>\n",
              "    </tr>\n",
              "    <tr>\n",
              "      <th>7</th>\n",
              "      <td>1.1955</td>\n",
              "      <td>0.863191</td>\n",
              "      <td>0.000176</td>\n",
              "      <td>0.018161</td>\n",
              "      <td>8</td>\n",
              "      <td>NaN</td>\n",
              "      <td>NaN</td>\n",
              "      <td>NaN</td>\n",
              "      <td>NaN</td>\n",
              "      <td>NaN</td>\n",
              "    </tr>\n",
              "    <tr>\n",
              "      <th>8</th>\n",
              "      <td>0.9114</td>\n",
              "      <td>0.933489</td>\n",
              "      <td>0.000168</td>\n",
              "      <td>0.020431</td>\n",
              "      <td>9</td>\n",
              "      <td>NaN</td>\n",
              "      <td>NaN</td>\n",
              "      <td>NaN</td>\n",
              "      <td>NaN</td>\n",
              "      <td>NaN</td>\n",
              "    </tr>\n",
              "    <tr>\n",
              "      <th>9</th>\n",
              "      <td>0.7870</td>\n",
              "      <td>0.785147</td>\n",
              "      <td>0.000160</td>\n",
              "      <td>0.022701</td>\n",
              "      <td>10</td>\n",
              "      <td>NaN</td>\n",
              "      <td>NaN</td>\n",
              "      <td>NaN</td>\n",
              "      <td>NaN</td>\n",
              "      <td>NaN</td>\n",
              "    </tr>\n",
              "    <tr>\n",
              "      <th>10</th>\n",
              "      <td>0.8155</td>\n",
              "      <td>0.675480</td>\n",
              "      <td>0.000152</td>\n",
              "      <td>0.024972</td>\n",
              "      <td>11</td>\n",
              "      <td>NaN</td>\n",
              "      <td>NaN</td>\n",
              "      <td>NaN</td>\n",
              "      <td>NaN</td>\n",
              "      <td>NaN</td>\n",
              "    </tr>\n",
              "    <tr>\n",
              "      <th>11</th>\n",
              "      <td>0.7825</td>\n",
              "      <td>0.800122</td>\n",
              "      <td>0.000144</td>\n",
              "      <td>0.027242</td>\n",
              "      <td>12</td>\n",
              "      <td>NaN</td>\n",
              "      <td>NaN</td>\n",
              "      <td>NaN</td>\n",
              "      <td>NaN</td>\n",
              "      <td>NaN</td>\n",
              "    </tr>\n",
              "    <tr>\n",
              "      <th>12</th>\n",
              "      <td>0.6439</td>\n",
              "      <td>0.609302</td>\n",
              "      <td>0.000136</td>\n",
              "      <td>0.029512</td>\n",
              "      <td>13</td>\n",
              "      <td>NaN</td>\n",
              "      <td>NaN</td>\n",
              "      <td>NaN</td>\n",
              "      <td>NaN</td>\n",
              "      <td>NaN</td>\n",
              "    </tr>\n",
              "    <tr>\n",
              "      <th>13</th>\n",
              "      <td>0.6589</td>\n",
              "      <td>0.467706</td>\n",
              "      <td>0.000128</td>\n",
              "      <td>0.031782</td>\n",
              "      <td>14</td>\n",
              "      <td>NaN</td>\n",
              "      <td>NaN</td>\n",
              "      <td>NaN</td>\n",
              "      <td>NaN</td>\n",
              "      <td>NaN</td>\n",
              "    </tr>\n",
              "    <tr>\n",
              "      <th>14</th>\n",
              "      <td>0.5179</td>\n",
              "      <td>0.465805</td>\n",
              "      <td>0.000120</td>\n",
              "      <td>0.034052</td>\n",
              "      <td>15</td>\n",
              "      <td>NaN</td>\n",
              "      <td>NaN</td>\n",
              "      <td>NaN</td>\n",
              "      <td>NaN</td>\n",
              "      <td>NaN</td>\n",
              "    </tr>\n",
              "    <tr>\n",
              "      <th>15</th>\n",
              "      <td>0.5916</td>\n",
              "      <td>0.617603</td>\n",
              "      <td>0.000112</td>\n",
              "      <td>0.036322</td>\n",
              "      <td>16</td>\n",
              "      <td>NaN</td>\n",
              "      <td>NaN</td>\n",
              "      <td>NaN</td>\n",
              "      <td>NaN</td>\n",
              "      <td>NaN</td>\n",
              "    </tr>\n",
              "    <tr>\n",
              "      <th>16</th>\n",
              "      <td>0.1962</td>\n",
              "      <td>0.386699</td>\n",
              "      <td>0.000104</td>\n",
              "      <td>0.038593</td>\n",
              "      <td>17</td>\n",
              "      <td>NaN</td>\n",
              "      <td>NaN</td>\n",
              "      <td>NaN</td>\n",
              "      <td>NaN</td>\n",
              "      <td>NaN</td>\n",
              "    </tr>\n",
              "    <tr>\n",
              "      <th>17</th>\n",
              "      <td>0.4421</td>\n",
              "      <td>0.375297</td>\n",
              "      <td>0.000096</td>\n",
              "      <td>0.040863</td>\n",
              "      <td>18</td>\n",
              "      <td>NaN</td>\n",
              "      <td>NaN</td>\n",
              "      <td>NaN</td>\n",
              "      <td>NaN</td>\n",
              "      <td>NaN</td>\n",
              "    </tr>\n",
              "    <tr>\n",
              "      <th>18</th>\n",
              "      <td>0.5324</td>\n",
              "      <td>0.394656</td>\n",
              "      <td>0.000088</td>\n",
              "      <td>0.043133</td>\n",
              "      <td>19</td>\n",
              "      <td>NaN</td>\n",
              "      <td>NaN</td>\n",
              "      <td>NaN</td>\n",
              "      <td>NaN</td>\n",
              "      <td>NaN</td>\n",
              "    </tr>\n",
              "    <tr>\n",
              "      <th>19</th>\n",
              "      <td>0.3084</td>\n",
              "      <td>0.401357</td>\n",
              "      <td>0.000080</td>\n",
              "      <td>0.045403</td>\n",
              "      <td>20</td>\n",
              "      <td>NaN</td>\n",
              "      <td>NaN</td>\n",
              "      <td>NaN</td>\n",
              "      <td>NaN</td>\n",
              "      <td>NaN</td>\n",
              "    </tr>\n",
              "    <tr>\n",
              "      <th>20</th>\n",
              "      <td>0.3981</td>\n",
              "      <td>0.401835</td>\n",
              "      <td>0.000072</td>\n",
              "      <td>0.047673</td>\n",
              "      <td>21</td>\n",
              "      <td>NaN</td>\n",
              "      <td>NaN</td>\n",
              "      <td>NaN</td>\n",
              "      <td>NaN</td>\n",
              "      <td>NaN</td>\n",
              "    </tr>\n",
              "    <tr>\n",
              "      <th>21</th>\n",
              "      <td>0.3770</td>\n",
              "      <td>0.328316</td>\n",
              "      <td>0.000064</td>\n",
              "      <td>0.049943</td>\n",
              "      <td>22</td>\n",
              "      <td>NaN</td>\n",
              "      <td>NaN</td>\n",
              "      <td>NaN</td>\n",
              "      <td>NaN</td>\n",
              "      <td>NaN</td>\n",
              "    </tr>\n",
              "    <tr>\n",
              "      <th>22</th>\n",
              "      <td>0.7197</td>\n",
              "      <td>0.435622</td>\n",
              "      <td>0.000056</td>\n",
              "      <td>0.052213</td>\n",
              "      <td>23</td>\n",
              "      <td>NaN</td>\n",
              "      <td>NaN</td>\n",
              "      <td>NaN</td>\n",
              "      <td>NaN</td>\n",
              "      <td>NaN</td>\n",
              "    </tr>\n",
              "    <tr>\n",
              "      <th>23</th>\n",
              "      <td>0.2376</td>\n",
              "      <td>0.437348</td>\n",
              "      <td>0.000048</td>\n",
              "      <td>0.054484</td>\n",
              "      <td>24</td>\n",
              "      <td>NaN</td>\n",
              "      <td>NaN</td>\n",
              "      <td>NaN</td>\n",
              "      <td>NaN</td>\n",
              "      <td>NaN</td>\n",
              "    </tr>\n",
              "    <tr>\n",
              "      <th>24</th>\n",
              "      <td>0.5848</td>\n",
              "      <td>0.363941</td>\n",
              "      <td>0.000040</td>\n",
              "      <td>0.056754</td>\n",
              "      <td>25</td>\n",
              "      <td>NaN</td>\n",
              "      <td>NaN</td>\n",
              "      <td>NaN</td>\n",
              "      <td>NaN</td>\n",
              "      <td>NaN</td>\n",
              "    </tr>\n",
              "    <tr>\n",
              "      <th>25</th>\n",
              "      <td>0.3870</td>\n",
              "      <td>0.379184</td>\n",
              "      <td>0.000032</td>\n",
              "      <td>0.059024</td>\n",
              "      <td>26</td>\n",
              "      <td>NaN</td>\n",
              "      <td>NaN</td>\n",
              "      <td>NaN</td>\n",
              "      <td>NaN</td>\n",
              "      <td>NaN</td>\n",
              "    </tr>\n",
              "    <tr>\n",
              "      <th>26</th>\n",
              "      <td>0.2501</td>\n",
              "      <td>0.341414</td>\n",
              "      <td>0.000024</td>\n",
              "      <td>0.061294</td>\n",
              "      <td>27</td>\n",
              "      <td>NaN</td>\n",
              "      <td>NaN</td>\n",
              "      <td>NaN</td>\n",
              "      <td>NaN</td>\n",
              "      <td>NaN</td>\n",
              "    </tr>\n",
              "    <tr>\n",
              "      <th>27</th>\n",
              "      <td>0.5130</td>\n",
              "      <td>0.344101</td>\n",
              "      <td>0.000016</td>\n",
              "      <td>0.063564</td>\n",
              "      <td>28</td>\n",
              "      <td>NaN</td>\n",
              "      <td>NaN</td>\n",
              "      <td>NaN</td>\n",
              "      <td>NaN</td>\n",
              "      <td>NaN</td>\n",
              "    </tr>\n",
              "    <tr>\n",
              "      <th>28</th>\n",
              "      <td>0.7820</td>\n",
              "      <td>0.332913</td>\n",
              "      <td>0.000008</td>\n",
              "      <td>0.065834</td>\n",
              "      <td>29</td>\n",
              "      <td>NaN</td>\n",
              "      <td>NaN</td>\n",
              "      <td>NaN</td>\n",
              "      <td>NaN</td>\n",
              "      <td>NaN</td>\n",
              "    </tr>\n",
              "    <tr>\n",
              "      <th>29</th>\n",
              "      <td>0.4006</td>\n",
              "      <td>0.380061</td>\n",
              "      <td>0.000000</td>\n",
              "      <td>0.068104</td>\n",
              "      <td>30</td>\n",
              "      <td>NaN</td>\n",
              "      <td>NaN</td>\n",
              "      <td>NaN</td>\n",
              "      <td>NaN</td>\n",
              "      <td>NaN</td>\n",
              "    </tr>\n",
              "    <tr>\n",
              "      <th>30</th>\n",
              "      <td>NaN</td>\n",
              "      <td>NaN</td>\n",
              "      <td>NaN</td>\n",
              "      <td>0.068104</td>\n",
              "      <td>30</td>\n",
              "      <td>346.473</td>\n",
              "      <td>0.693</td>\n",
              "      <td>0.087</td>\n",
              "      <td>1.459440e+16</td>\n",
              "      <td>0.895429</td>\n",
              "    </tr>\n",
              "  </tbody>\n",
              "</table>\n",
              "</div>"
            ]
          },
          "metadata": {},
          "output_type": "display_data"
        },
        {
          "data": {
            "text/plain": [
              "      loss  grad_norm  learning_rate     epoch  step  train_runtime  \\\n",
              "0   2.1978  13.724114       0.000040  0.002270     1            NaN   \n",
              "1   2.6466  15.350007       0.000080  0.004540     2            NaN   \n",
              "2   2.5021   4.597202       0.000120  0.006810     3            NaN   \n",
              "3   1.9319   1.482393       0.000160  0.009081     4            NaN   \n",
              "4   1.6738   1.011267       0.000200  0.011351     5            NaN   \n",
              "5   1.5538   1.074024       0.000192  0.013621     6            NaN   \n",
              "6   1.3234   0.837895       0.000184  0.015891     7            NaN   \n",
              "7   1.1955   0.863191       0.000176  0.018161     8            NaN   \n",
              "8   0.9114   0.933489       0.000168  0.020431     9            NaN   \n",
              "9   0.7870   0.785147       0.000160  0.022701    10            NaN   \n",
              "10  0.8155   0.675480       0.000152  0.024972    11            NaN   \n",
              "11  0.7825   0.800122       0.000144  0.027242    12            NaN   \n",
              "12  0.6439   0.609302       0.000136  0.029512    13            NaN   \n",
              "13  0.6589   0.467706       0.000128  0.031782    14            NaN   \n",
              "14  0.5179   0.465805       0.000120  0.034052    15            NaN   \n",
              "15  0.5916   0.617603       0.000112  0.036322    16            NaN   \n",
              "16  0.1962   0.386699       0.000104  0.038593    17            NaN   \n",
              "17  0.4421   0.375297       0.000096  0.040863    18            NaN   \n",
              "18  0.5324   0.394656       0.000088  0.043133    19            NaN   \n",
              "19  0.3084   0.401357       0.000080  0.045403    20            NaN   \n",
              "20  0.3981   0.401835       0.000072  0.047673    21            NaN   \n",
              "21  0.3770   0.328316       0.000064  0.049943    22            NaN   \n",
              "22  0.7197   0.435622       0.000056  0.052213    23            NaN   \n",
              "23  0.2376   0.437348       0.000048  0.054484    24            NaN   \n",
              "24  0.5848   0.363941       0.000040  0.056754    25            NaN   \n",
              "25  0.3870   0.379184       0.000032  0.059024    26            NaN   \n",
              "26  0.2501   0.341414       0.000024  0.061294    27            NaN   \n",
              "27  0.5130   0.344101       0.000016  0.063564    28            NaN   \n",
              "28  0.7820   0.332913       0.000008  0.065834    29            NaN   \n",
              "29  0.4006   0.380061       0.000000  0.068104    30            NaN   \n",
              "30     NaN        NaN            NaN  0.068104    30        346.473   \n",
              "\n",
              "    train_samples_per_second  train_steps_per_second    total_flos  train_loss  \n",
              "0                        NaN                     NaN           NaN         NaN  \n",
              "1                        NaN                     NaN           NaN         NaN  \n",
              "2                        NaN                     NaN           NaN         NaN  \n",
              "3                        NaN                     NaN           NaN         NaN  \n",
              "4                        NaN                     NaN           NaN         NaN  \n",
              "5                        NaN                     NaN           NaN         NaN  \n",
              "6                        NaN                     NaN           NaN         NaN  \n",
              "7                        NaN                     NaN           NaN         NaN  \n",
              "8                        NaN                     NaN           NaN         NaN  \n",
              "9                        NaN                     NaN           NaN         NaN  \n",
              "10                       NaN                     NaN           NaN         NaN  \n",
              "11                       NaN                     NaN           NaN         NaN  \n",
              "12                       NaN                     NaN           NaN         NaN  \n",
              "13                       NaN                     NaN           NaN         NaN  \n",
              "14                       NaN                     NaN           NaN         NaN  \n",
              "15                       NaN                     NaN           NaN         NaN  \n",
              "16                       NaN                     NaN           NaN         NaN  \n",
              "17                       NaN                     NaN           NaN         NaN  \n",
              "18                       NaN                     NaN           NaN         NaN  \n",
              "19                       NaN                     NaN           NaN         NaN  \n",
              "20                       NaN                     NaN           NaN         NaN  \n",
              "21                       NaN                     NaN           NaN         NaN  \n",
              "22                       NaN                     NaN           NaN         NaN  \n",
              "23                       NaN                     NaN           NaN         NaN  \n",
              "24                       NaN                     NaN           NaN         NaN  \n",
              "25                       NaN                     NaN           NaN         NaN  \n",
              "26                       NaN                     NaN           NaN         NaN  \n",
              "27                       NaN                     NaN           NaN         NaN  \n",
              "28                       NaN                     NaN           NaN         NaN  \n",
              "29                       NaN                     NaN           NaN         NaN  \n",
              "30                     0.693                   0.087  1.459440e+16    0.895429  "
            ]
          },
          "metadata": {},
          "output_type": "display_data"
        }
      ],
      "metadata": {
        "datalore": {
          "node_id": "t6mGsa5n7g4wz8c4GgUTQy",
          "type": "CODE",
          "hide_input_from_viewers": false,
          "hide_output_from_viewers": false,
          "report_properties": {
            "rowId": "4dhNMEeO6DsbPeaGtKgGLT"
          }
        },
        "id": "6bDWJ8af6kMb",
        "outputId": "ea3ae6d1-83c5-424e-ca7a-c3c4601cd624"
      }
    },
    {
      "cell_type": "code",
      "source": [
        "import matplotlib.pyplot as plt\n",
        "\n",
        "\n",
        "# Plot the training loss curve\n",
        "loss = df['loss']\n",
        "step = df['step']\n",
        "\n",
        "plt.figure(figsize=(10, 6))\n",
        "plt.plot(step, loss, label='Loss', color='blue', linewidth=2)\n",
        "\n",
        "plt.title(\"Loss Curve\", fontsize=16)\n",
        "plt.xlabel(\"Step\", fontsize=14)\n",
        "plt.ylabel(\"Loss\", fontsize=14)\n",
        "plt.grid(True, linestyle='--', alpha=0.6)\n",
        "plt.legend(fontsize=12)\n",
        "plt.show()"
      ],
      "execution_count": null,
      "outputs": [
        {
          "data": {
            "image/png": "[encoded data removed]"
          },
          "metadata": {
            "image/png": {}
          },
          "output_type": "display_data"
        },
        {
          "data": {
            "text/plain": [
              "<Figure size 720x432 with 1 Axes>"
            ]
          },
          "metadata": {},
          "output_type": "display_data"
        }
      ],
      "metadata": {
        "datalore": {
          "node_id": "Giwx5P1RjMXmeZmQh03MmW",
          "type": "CODE",
          "hide_input_from_viewers": false,
          "hide_output_from_viewers": false,
          "report_properties": {
            "rowId": "lqcBfd1WNHNs3dGpFcZXNZ"
          }
        },
        "id": "jgHTaYQc6kMb",
        "outputId": "9a3e793b-9aa2-4e3c-be4e-6929f558d7da"
      }
    },
    {
      "cell_type": "code",
      "source": [],
      "execution_count": null,
      "outputs": [],
      "metadata": {
        "datalore": {
          "node_id": "LU6Xk05rez5UKKGOq6xsc1",
          "type": "CODE",
          "hide_input_from_viewers": true,
          "hide_output_from_viewers": true
        },
        "id": "UadxYJD66kMb"
      }
    }
  ],
  "metadata": {
    "kernelspec": {
      "display_name": "Python",
      "language": "python",
      "name": "python"
    },
    "datalore": {
      "computation_mode": "JUPYTER",
      "package_manager": "pip",
      "base_environment": "default",
      "packages": [],
      "report_row_ids": [],
      "report_tabs": [
        {
          "id": "1GjCvsYSqrUL1GG4rSALjd",
          "name": "Report tab",
          "rows": [
            "3ZG9LkMBswg7vdNgrxr35R",
            "sqofyOVXSsqTYKwVTBMqf2",
            "xhQJES9q8LzFEdDFZUknqq",
            "4MoNjS7bxWO7vMCWnjX11b",
            "pBEqrMuk5fbJlQpfumfJ5g",
            "sCmXNGg3E01Oq1fGnfp8zn",
            "Gksby1b0CqwwLnxUVgxq6z",
            "mzaoFLw5IL170UzgwlvWWS",
            "UeVWy67Obm8FqvkZQsR1FG",
            "Uibx73yiDjm2zd82k857Yn",
            "HKhbcfi7JLQS5U4WnyNXSc",
            "XymLign4hYiAdiQthezGWR",
            "W8vzrsa8Lok7QByxI67Xq9",
            "9VI9rr0panAFfG33wng4KX",
            "eFJNtoJzoLNzTvJ4HiU09x",
            "59eYJaQJw2qp8cxe2Zn1Sb",
            "DPidKdHCMYHhzQxTDEFDji",
            "RImQsFRrhelOahiW4htyR0",
            "JGLViHEfrvAIM9p7DTvqz9",
            "d8ruNav4nOSqbzt1xxuznU",
            "9IeydbuBlR2D7DrHh5Jxj6",
            "Ma2TmHFOoGU3kK3g3XpgTn",
            "4dhNMEeO6DsbPeaGtKgGLT",
            "lqcBfd1WNHNs3dGpFcZXNZ",
            "Xx8SQPu0nOz2ISdWAHLnqW",
            "1dwb5yRPWHIZMHQoiT9emB",
            "BBZ9TWCxYJ9egax4oktUcH"
          ]
        }
      ],
      "version": 4
    },
    "colab": {
      "provenance": []
    }
  },
  "nbformat": 4,
  "nbformat_minor": 0
}